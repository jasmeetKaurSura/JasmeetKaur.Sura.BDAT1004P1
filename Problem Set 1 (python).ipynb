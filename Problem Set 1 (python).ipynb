{
 "cells": [
  {
   "cell_type": "markdown",
   "id": "b0c3e7b5",
   "metadata": {},
   "source": [
    "# Problem Set 1 (Python)\n",
    "## Jasmeet Kaur Sura\n"
   ]
  },
  {
   "cell_type": "markdown",
   "id": "57f60035",
   "metadata": {},
   "source": [
    "## Q6 Python"
   ]
  },
  {
   "cell_type": "markdown",
   "id": "b6006234",
   "metadata": {},
   "source": [
    "### You can turn a word into pig-Latin using the following two rules (simplified):  \n",
    "### -   If the word starts with a consonant, move that letter to the end and append 'ay'. For example, 'happy' becomes 'appyhay' and 'pencil' becomes 'encilpay'.\n",
    "### -   If the word starts with a vowel, simply append 'way' to the end of the word. For example, 'enter' becomes 'enterway' and 'other' becomes 'otherway' . For  our purposes, there are 5 vowels: a, e, i, o, u (so we count y as a consonant). \n",
    "\n",
    "### Write a function pig() that takes a word (i.e., a string) as input and returns its pig\u0002Latin form. Your function should still work if the input word contains upper case  characters. Your output should always be lower case however."
   ]
  },
  {
   "cell_type": "code",
   "execution_count": 1,
   "id": "22f4cbec",
   "metadata": {},
   "outputs": [
    {
     "name": "stdout",
     "output_type": "stream",
     "text": [
      "Enter a word to be converted to pig-Latin\n",
      "word :happy\n",
      "appyhay\n",
      "enterway\n",
      "otherway\n"
     ]
    }
   ],
   "source": [
    "# pig  function \n",
    "def pig(word):\n",
    "    s= word.lower()\n",
    "    vowels = ['a','e','i','o','u']\n",
    "    if s[0] in vowels:    # this condition checks weather word s starts with a vowel or not\n",
    "      str=s + 'way' \n",
    "      print(str)\n",
    "    else:                 # if word s does not start with a vowel\n",
    "     str=s[1:] + s[:1] + 'ay' \n",
    "     print(str)\n",
    "    \n",
    "# Main Program \n",
    "\n",
    "print('Enter a word to be converted to pig-Latin')\n",
    "word = input('word :')\n",
    "pig(word)\n",
    "\n",
    "# for outputs metion in question\n",
    "pig(\"enter\")\n",
    "pig(\"other\")       "
   ]
  },
  {
   "cell_type": "markdown",
   "id": "f7ced70a",
   "metadata": {},
   "source": [
    "## Q7 Python"
   ]
  },
  {
   "cell_type": "markdown",
   "id": "171ff439",
   "metadata": {},
   "source": [
    "### File bloodtype1.txt records blood-types of patients (A, B, AB, O or OO) at a clinic. Write a function bldcount() that reads the file with name name and reports (i.e., prints) how many patients there are in each bloodtype.\n",
    "###  bldcount('bloodtype.txt')\n",
    "### -  There are 10 patients of blood type A.\n",
    "### -  There is one patient of blood type B.\n",
    "### -  There are 10 patients of blood type AB.\n",
    "### -  There are 12 patients of blood type O.\n",
    "### -  There are no patients of blood type OO."
   ]
  },
  {
   "cell_type": "code",
   "execution_count": 209,
   "id": "e62fa054",
   "metadata": {},
   "outputs": [
    {
     "name": "stdout",
     "output_type": "stream",
     "text": [
      "There are  15  patients of blood type A.\n",
      "There are  1  patients of blood type B.\n",
      "There are  13  patients of blood type AB.\n",
      "There are  15  patients of blood type O.\n",
      "There are  0  patients of blood type OO.\n"
     ]
    }
   ],
   "source": [
    "def bldcount(f):\n",
    "    counters= {'A':0,'B':0,'AB':0,'O':0,'OO':0} \n",
    "    for word in f.split():       # this loop is picking all words in line which has been splitted \n",
    "        if(word == 'A'):\n",
    "             counters['A'] += 1   # add one to value of counters[A] if 'A' appears in the list \n",
    "        elif(word == 'B'):\n",
    "            counters['B'] += 1\n",
    "        elif(word == 'AB'): \n",
    "            counters['AB'] += 1\n",
    "        elif(word == 'O'): \n",
    "            counters['O'] += 1\n",
    "        else: \n",
    "            counters['OO'] += 1\n",
    "    print('There are  {}  patients of blood type A.'.format(counters['A']))\n",
    "    print('There are  {}  patients of blood type B.'.format(counters['B']))\n",
    "    print('There are  {}  patients of blood type AB.'.format(counters['AB']))\n",
    "    print('There are  {}  patients of blood type O.'.format(counters['O']))\n",
    "    print('There are  {}  patients of blood type OO.'.format(counters['OO']))\n",
    "\n",
    "\n",
    "\n",
    "infile = open('bloodtype.txt')\n",
    "f = infile.readline()\n",
    "bldcount(f) \n",
    "\n",
    "infile.close()\n",
    "\n",
    "\n",
    "\n",
    "\n",
    "       "
   ]
  },
  {
   "cell_type": "markdown",
   "id": "e546c5e3",
   "metadata": {},
   "source": [
    "# Q8 Python"
   ]
  },
  {
   "cell_type": "markdown",
   "id": "850e7aae",
   "metadata": {},
   "source": [
    "### Write a function curconv() that takes as input:\n",
    "### -  a currency represented using a string (e.g., 'JPY' for the Japanese Yen or 'EUR' for the Euro)\n",
    "### -  an amountand then converts and returns the amount in US dollars\n",
    "- curconv('EUR', 100) \n",
    "122.96544\n",
    "- curconv('JPY', 100)\n",
    "1.241401"
   ]
  },
  {
   "cell_type": "code",
   "execution_count": 135,
   "id": "49b6fbf8",
   "metadata": {},
   "outputs": [
    {
     "name": "stdout",
     "output_type": "stream",
     "text": [
      "Currency type\n",
      "EUR\n",
      "Currency to be exchanged\n",
      "100\n",
      "The conversion of 100 EUR to US dollars is 122.96544\n"
     ]
    }
   ],
   "source": [
    "def curconv(str,amt):\n",
    "    conversionKey ={}\n",
    "    infile = open('currencies.txt')\n",
    "    indices = \"\"\n",
    "    for line in infile:   # this for loop reads all the lines in infile\n",
    "        y = line.split()\n",
    "        conversionKey[y[0]] = y[1]  \n",
    "        indices += y[0] + \" \"\n",
    "        if str == y[0]:      #matched the value of currencies unique key and then used the associated value of conversion\n",
    "            conv= float(amt)* float(y[1]) \n",
    "            print('The conversion of {} {} to US dollars is {}'.format(amt,str,conv))\n",
    "\n",
    "# main fuction   \n",
    "print('Currency type')\n",
    "str =input('')\n",
    "     \n",
    "print('Currency to be exchanged')\n",
    "amt =input('')\n",
    " \n",
    "curconv(str,amt)\n"
   ]
  },
  {
   "cell_type": "code",
   "execution_count": 136,
   "id": "eca52c6e",
   "metadata": {},
   "outputs": [
    {
     "name": "stdout",
     "output_type": "stream",
     "text": [
      "Currency type\n",
      "JPY\n",
      "Currency to be exchanged\n",
      "100\n",
      "The conversion of 100 JPY to US dollars is 1.241401\n"
     ]
    }
   ],
   "source": [
    "print('Currency type')\n",
    "str =input('')\n",
    "     \n",
    "print('Currency to be exchanged')\n",
    "amt =input('')\n",
    " \n",
    "curconv(str,amt)"
   ]
  },
  {
   "cell_type": "markdown",
   "id": "747d2d6b",
   "metadata": {},
   "source": [
    "# Q9 Python"
   ]
  },
  {
   "cell_type": "markdown",
   "id": "fc098f79",
   "metadata": {},
   "source": [
    "### Each of the following will cause an exception (an error). Identify what type of  exception each will cause.\n"
   ]
  },
  {
   "cell_type": "markdown",
   "id": "3f0e1ca8",
   "metadata": {
    "slideshow": {
     "slide_type": "slide"
    }
   },
   "source": [
    "|question          | Error                            |                \n",
    "| :---              |-----------------:                                                                      |          \n",
    "| Trying to add incompatible variables, as in adding 6 + ‘a’        | TypeError                                       | \n",
    "| Referring to the 12th item of a list that has only 10 items     |IndexError        | \n",
    "| Using a value that is out of range for a function’s input, such as calling math.sqrt(-1.0)     | ValueError   |  \n",
    "| Using an undeclared variable, such as print(x) when x has not been defined             | NameError   |  \n",
    "| Trying to open a file that does not exist, such as mistyping the file name or looking in the wrong directory.        | FileNotFoundError    "
   ]
  },
  {
   "cell_type": "markdown",
   "id": "7c46419c",
   "metadata": {},
   "source": [
    "# Q10 Python"
   ]
  },
  {
   "cell_type": "markdown",
   "id": "ad431f2e",
   "metadata": {},
   "source": [
    "### Encryption is the process of hiding the meaning of a text by substituting letters in the message with other letters, according to some system. If the process is successful, no one but the intended recipient can understand the encrypted message. Cryptanalysisrefers to attempts to undo the encryption, even if some details of the encryption are unknown (for example, if an encrypted message has been intercepted). The first step of cryptanalysis is often to build up a table of letter frequencies in the encrypted text. Assume that the string letters is already defined as 'abcdefghijklmnopqrstuvwxyz'. Write a function called frequencies()that takes a string as its only parameter, and returns a list of integers, showing the number of times each character appears in the text. Your function may ignore any characters that are not in letters.\n",
    "\n",
    "- frequencies('The quick red fox got bored and went home.')\n",
    "[1, 1, 1, 3, 5, 1, 1, 2, 1, 0, 1, 0, 1, 2, 4, 0, 1, 2, 0, 2, \n",
    "1, 0, 1, 1, 0, 0]\n",
    "- frequencies('apple')"
   ]
  },
  {
   "cell_type": "code",
   "execution_count": 94,
   "id": "71d23f2e",
   "metadata": {
    "scrolled": true
   },
   "outputs": [
    {
     "name": "stdout",
     "output_type": "stream",
     "text": [
      "dict_values([1, 1, 1, 3, 5, 1, 1, 2, 1, 0, 1, 0, 1, 2, 4, 0, 1, 2, 0, 3, 1, 0, 1, 1, 0, 0])\n",
      "dict_values([1, 0, 0, 0, 1, 0, 0, 0, 0, 0, 0, 1, 0, 0, 0, 2, 0, 0, 0, 0, 0, 0, 0, 0, 0, 0])\n"
     ]
    }
   ],
   "source": [
    "def frequencies(str):\n",
    "    counters = {}\n",
    "    s=str.lower()\n",
    "    for i in range(97,123,1):\n",
    "        counters[chr(i)] = 0\n",
    "        for char in s:  # this for loop gets all the characters in the given input\n",
    "            if char == chr(i): \n",
    "                    counters[chr(i)] += 1 # add on to the corresponding value               \n",
    "           \n",
    "    print(counters.values())\n",
    "\n",
    "    # inputs  mentioned in the question     \n",
    "word1 =\"The quick red fox got bored and went home\" \n",
    "word2 =\"apple\"\n",
    "frequencies(word1)\n",
    "frequencies(word2)\n",
    "           \n",
    " \n",
    "    \n",
    " "
   ]
  },
  {
   "cell_type": "code",
   "execution_count": null,
   "id": "011ba40a",
   "metadata": {},
   "outputs": [],
   "source": []
  }
 ],
 "metadata": {
  "kernelspec": {
   "display_name": "Python 3",
   "language": "python",
   "name": "python3"
  },
  "language_info": {
   "codemirror_mode": {
    "name": "ipython",
    "version": 3
   },
   "file_extension": ".py",
   "mimetype": "text/x-python",
   "name": "python",
   "nbconvert_exporter": "python",
   "pygments_lexer": "ipython3",
   "version": "3.8.8"
  }
 },
 "nbformat": 4,
 "nbformat_minor": 5
}
