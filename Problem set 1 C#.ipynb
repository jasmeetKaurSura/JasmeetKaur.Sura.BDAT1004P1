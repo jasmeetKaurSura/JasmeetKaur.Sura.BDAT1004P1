{
 "cells": [
  {
   "cell_type": "markdown",
   "id": "094c57af",
   "metadata": {},
   "source": [
    "# Problem Set 1 (C#)\n",
    "\n",
    "## Jasmeet Kaur Sura"
   ]
  },
  {
   "cell_type": "markdown",
   "id": "29cf8c5b",
   "metadata": {},
   "source": [
    "## Question 1 C#\n",
    "### What data type is each of the following?"
   ]
  },
  {
   "cell_type": "markdown",
   "id": "b748dcdb",
   "metadata": {
    "slideshow": {
     "slide_type": "slide"
    }
   },
   "source": [
    "|Expresion          | Data Types                           |                \n",
    "| :---              |-----------------:                                                                      |          \n",
    "| 5 | int                                      | \n",
    "    | 5.0     | float      | \n",
    "| 5 > 1| Bool                                                 |  \n",
    "| '5'           | char                          |  \n",
    "| 5 * 2       | int                     |   \n",
    "| '5' * 2        |     int              |  \n",
    "|'5' + '2'       |        int  |  \n",
    "|5 / 2        | int|  \n",
    "|5 % 2    | int                     |   \n",
    "|{5, 2, 1}      |   int                  |  \n",
    "|5 == 3     | Bool     |  \n",
    "|Pi (the number)   | double|      "
   ]
  },
  {
   "cell_type": "markdown",
   "id": "9c645b8f",
   "metadata": {},
   "source": [
    "## Question 2 C#\n",
    "### Write (and evaluate) C# expressions that answer these questions:\n",
    "\n"
   ]
  },
  {
   "cell_type": "markdown",
   "id": "64a8f107",
   "metadata": {},
   "source": [
    "### (a) How many letters are there in 'Supercalifragilisticexpialidocious'?"
   ]
  },
  {
   "cell_type": "code",
   "execution_count": 115,
   "id": "97a9e609",
   "metadata": {},
   "outputs": [
    {
     "name": "stdout",
     "output_type": "stream",
     "text": [
      "number of letters in given strings= 34 \r\n"
     ]
    }
   ],
   "source": [
    "      String str=\"Supercalifragilisticexpialidocious\";\n",
    "      int l= str.Length;\n",
    "      Console.WriteLine(\"number of letters in given strings= {0} \",l);\n",
    "      "
   ]
  },
  {
   "cell_type": "markdown",
   "id": "33443745",
   "metadata": {},
   "source": [
    "### (b)Does 'Supercalifragilisticexpialidocious' contain 'ice' as a substring?"
   ]
  },
  {
   "cell_type": "code",
   "execution_count": 121,
   "id": "4e53e3d0",
   "metadata": {},
   "outputs": [
    {
     "name": "stdout",
     "output_type": "stream",
     "text": [
      "Yes Given string contains ice\r\n"
     ]
    }
   ],
   "source": [
    " String str=\"Supercalifragilisticexpialidocious\";\n",
    "  string answer=\"\";\n",
    "  if(str.Contains(\"ice\"))\n",
    "       Console.WriteLine(\"Yes Given string contains ice\");\n",
    "  else\n",
    "       Console.WriteLine(\"No Given string contains ice\");\n",
    "  "
   ]
  },
  {
   "cell_type": "code",
   "execution_count": 100,
   "id": "14053796",
   "metadata": {
    "scrolled": true
   },
   "outputs": [
    {
     "name": "stdout",
     "output_type": "stream",
     "text": [
      "Yes Given string contains ice\r\n"
     ]
    },
    {
     "data": {
      "text/html": [
       "<null>"
      ]
     },
     "execution_count": 100,
     "metadata": {},
     "output_type": "execute_result"
    }
   ],
   "source": [
    " String str=\"Supercalifragilisticexpialidocious\";\n",
    "string answer=\"\";\n",
    "for (int i=0; i+3 <= str.Length; i++)\n",
    "{ \n",
    "     String strPart= str.Substring(i,3);\n",
    "     if (strPart == \"ice\")\n",
    "        {\n",
    "           answer= \"Yes\";\n",
    "           Console.WriteLine(\"{0} Given string contains ice\" ,answer); \n",
    "           return;\n",
    "        }\n",
    "}\n",
    " \n",
    "Console.WriteLine(\"No Given string contains ice\"); \n",
    "    \n"
   ]
  },
  {
   "cell_type": "markdown",
   "id": "93061ef3",
   "metadata": {},
   "source": [
    "###  (c)Which of the following words is the longest: Supercalifragilisticexpialidocious, Honorificabilitudinitatibus, or  Bababadalgharaghtakamminarronnkonn? "
   ]
  },
  {
   "cell_type": "code",
   "execution_count": 95,
   "id": "9647dd48",
   "metadata": {},
   "outputs": [
    {
     "name": "stdout",
     "output_type": "stream",
     "text": [
      "Bababadalgharaghtakamminarronnkonn is longer than all other given strings\r\n"
     ]
    }
   ],
   "source": [
    "      String str1=\"Supercalifragilisticexpialidocious\";\n",
    "      String str2=\"Honorificabilitudinitatibus\";\n",
    "      String str3=\"Bababadalgharaghtakamminarronnkonn\";\n",
    "      char[] arr1= str1.ToCharArray();\n",
    "      char[] arr2= str2.ToCharArray();\n",
    "      char[] arr3= str3.ToCharArray();\n",
    "      int l1= arr1.Length;\n",
    "      int l2= arr1.Length;\n",
    "      int l3= arr1.Length;\n",
    "\n",
    "// now chech if any one of these lengthnis grater than other two.\n",
    "\n",
    "      if (l1>l2 && l1>l3)\n",
    "      Console.WriteLine(\"{0} is longer than all other given strings\", str1);\n",
    "         else if (l2>l3 && l2>l1)\n",
    "            Console.WriteLine(\"{0} is longer than all other given strings\",str2);\n",
    "            else \n",
    "             Console.WriteLine(\"{0} is longer than all other given strings\",str3);\n",
    "            \n",
    "         \n",
    "      "
   ]
  },
  {
   "cell_type": "markdown",
   "id": "68ceffa0",
   "metadata": {},
   "source": [
    "### (d) Which composer comes first in the dictionary: 'Berlioz', 'Borodin', 'Brian', 'Bartok', 'Bellini', 'Buxtehude', 'Bernstein'. Which one comes last?"
   ]
  },
  {
   "cell_type": "code",
   "execution_count": 3,
   "id": "0fea1cbe",
   "metadata": {},
   "outputs": [
    {
     "name": "stdout",
     "output_type": "stream",
     "text": [
      "Bartok, \n",
      "Bellini, \n",
      "Berlioz, \n",
      "Bernstein, \n",
      "Borodin, \n",
      "Brian, \n",
      "Buxtehude, \n"
     ]
    }
   ],
   "source": [
    "\n",
    "    \n",
    "String[] words= {\"Berlioz\", \"Borodin\", \"Brian\", \"Bartok\", \"Bellini\", \"Buxtehude\", \"Bernstein\"};\n",
    "Array.Sort(words);\n",
    "foreach (string word in words)\n",
    "Console.WriteLine(\"{0},{1}\",word,\" \");\n",
    " \n",
    "               "
   ]
  },
  {
   "cell_type": "markdown",
   "id": "abee71f0",
   "metadata": {},
   "source": [
    "# Question 3\n",
    "\n",
    "### Implement function triangleArea(a,b,c) that takes as input the lengths of the 3 sides of a triangle and returns the area of the triangle. \n"
   ]
  },
  {
   "cell_type": "code",
   "execution_count": 7,
   "id": "822da9c7",
   "metadata": {},
   "outputs": [],
   "source": [
    "// functiom for calaulationg area.\n",
    "\n",
    "public class myFunction\n",
    "    {\n",
    "        public double area( float a, float b, float c)\n",
    "        {\n",
    "            float s=(a+b+c)/2;\n",
    "            double area = Math.Sqrt(s*(s-a)*(s-b)*(s-c));\n",
    "            return(area);\n",
    "        }\n",
    "        \n",
    "    }\n",
    "\n",
    "\n",
    "\n",
    " "
   ]
  },
  {
   "cell_type": "code",
   "execution_count": 8,
   "id": "ac808ff7",
   "metadata": {},
   "outputs": [
    {
     "name": "stdout",
     "output_type": "stream",
     "text": [
      "sides of triangle are : 2 2 2\n",
      "area of the triangle =1.7320508075688772\n"
     ]
    }
   ],
   "source": [
    "// sides of triangle.\n",
    "float a=2;\n",
    "float b=2;\n",
    "float c=2;\n",
    "double area;\n",
    "myFunction program = new myFunction(); \n",
    "Console.WriteLine(\"sides of triangle are : {0} {1} {2}\",a,b,c);\n",
    "area = program.area(a,b,c);        \n",
    "Console.WriteLine(\"area of the triangle ={0}\",area);\n",
    "\n",
    "\n",
    "\n"
   ]
  },
  {
   "cell_type": "markdown",
   "id": "1aa04d5f",
   "metadata": {},
   "source": [
    "## Question 4\n",
    "### Write a program in C# Sharp to separate odd and even integers in separate arrays. Go to the editor Test Data :\n",
    "Input the number of elements to be stored in the array :5\n",
    "Input 5 elements in the array :\n",
    "-  element - 0 : 25\n",
    "-  element - 1 : 47\n",
    "-  element - 2 : 42\n",
    "-  element - 3 : 56\n",
    "-  element - 4 : 32\n",
    "\n",
    "Expected Output:\n",
    "The Even elements are:\n",
    "42 56 32\n",
    "The Odd elements are :\n",
    "25 47"
   ]
  },
  {
   "cell_type": "code",
   "execution_count": 186,
   "id": "c7d8a964",
   "metadata": {},
   "outputs": [
    {
     "name": "stdout",
     "output_type": "stream",
     "text": [
      "The Even elements are: 42 56 32  \n",
      "The odd elements are: 25 47  \n"
     ]
    }
   ],
   "source": [
    "\n",
    "int[] array ={25,47,42,56,32};\n",
    "String even =\"\";\n",
    "String odd =\"\";\n",
    "\n",
    "foreach(int j in array)\n",
    "\n",
    "{\n",
    "   if (j%2 == 0)\n",
    "   {\n",
    "      even += j+\" \";\n",
    "     }\n",
    "   else\n",
    "      odd += j+\" \";\n",
    "}\n",
    "Console.WriteLine(\"The Even elements are: {0} \",even);      \n",
    "Console.WriteLine(\"The odd elements are: {0} \",odd);    \n",
    "      \n"
   ]
  },
  {
   "cell_type": "markdown",
   "id": "eb047d7d",
   "metadata": {},
   "source": [
    "# Question 5\n",
    "### (a). Write a function inside(x,y,x1,y1,x2,y2) that returns True or False depending on whether the point (x,y) lies in the rectangle with lower left corner (x1,y1) and upper right corner (x2,y2).\n",
    "- inside(1,1,0,0,2,3)\n",
    "True\n",
    "- inside(-1,-1,0,0,2,3)\n",
    "False"
   ]
  },
  {
   "cell_type": "code",
   "execution_count": 69,
   "id": "69fe899f",
   "metadata": {},
   "outputs": [],
   "source": [
    "public class myfunction\n",
    "{\n",
    "    public String inside(double x,double y,double x1,double y1,double x2, double y2)\n",
    "    {\n",
    "          string str;\n",
    "        if((x1 < x && x < x2) && (y1 < y && y< y2))\n",
    "     str = \"True\";\n",
    "           else\n",
    "           str =  \"False\";\n",
    "         return(str)   ;\n",
    "    }\n",
    "    \n",
    " \n",
    "}            \n",
    "            "
   ]
  },
  {
   "cell_type": "code",
   "execution_count": 112,
   "id": "ccff57bd",
   "metadata": {},
   "outputs": [
    {
     "name": "stdout",
     "output_type": "stream",
     "text": [
      "inside(1, 1, 0, 0, 2, 3) True\n",
      "inside(-1, -1, 0, 0, 2, 3) False\n"
     ]
    }
   ],
   "source": [
    "myfunction rect = new myfunction(); \n",
    "String value= rect.inside(1, 1, 0, 0, 2, 3);\n",
    "  Console.WriteLine(\"inside(1, 1, 0, 0, 2, 3) {0}\" ,value);\n",
    " value= rect.inside(-1,-1,0,0,2,3);\n",
    "Console.WriteLine(\"inside(-1, -1, 0, 0, 2, 3) {0}\",value);\n"
   ]
  },
  {
   "cell_type": "markdown",
   "id": "46b96c5c",
   "metadata": {},
   "source": [
    "### (b) Use function inside() from part a. to write an expression that tests whether the point (1,1) lies in both of the following rectangles: one with lower left corner (0.3, 0.5) and upper right corner (1.1, 0.7) and the other with lower left corner (0.5, 0.2) and upper right corner (1.1, 2)."
   ]
  },
  {
   "cell_type": "code",
   "execution_count": 111,
   "id": "1553deee",
   "metadata": {},
   "outputs": [
    {
     "name": "stdout",
     "output_type": "stream",
     "text": [
      "inside(1 ,1 , 0.3 , 0.5 , 1.1, 0.7) False\n",
      "inside(1, 1, 0.5, 0.2, 1.1, 2) True\n"
     ]
    }
   ],
   "source": [
    "myfunction rect = new myfunction(); \n",
    "String value= rect.inside(1 ,1 , 0.3 , 0.5 , 1.1, 0.7);\n",
    "Console.WriteLine(\"inside(1 ,1 , 0.3 , 0.5 , 1.1, 0.7) {0}\" ,value);\n",
    " value= rect.inside(1, 1, 0.5, 0.2, 1.1, 2);\n",
    " Console.WriteLine(\"inside(1, 1, 0.5, 0.2, 1.1, 2) {0}\" ,value);\n",
    "            "
   ]
  }
 ],
 "metadata": {
  "kernelspec": {
   "display_name": ".NET (C#)",
   "language": "C#",
   "name": ".net-csharp"
  },
  "language_info": {
   "file_extension": ".cs",
   "mimetype": "text/x-csharp",
   "name": "C#",
   "pygments_lexer": "csharp",
   "version": "8.0"
  }
 },
 "nbformat": 4,
 "nbformat_minor": 5
}
